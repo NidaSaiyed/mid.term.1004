{
 "cells": [
  {
   "cell_type": "code",
   "execution_count": 8,
   "id": "bbe5bced",
   "metadata": {},
   "outputs": [],
   "source": [
    "class EmptyQueueError(Exception):     \n",
    "    pass\n",
    "\n",
    "class FullQueueError(Exception):     \n",
    "    pass\n",
    "\n",
    "class InsufficientElementsInQueueError(Exception):\n",
    "    pass\n",
    "\n",
    "class Queue:\n",
    "    'a classic queue class'\n",
    "    def __init__(self):\n",
    "        'instantiates an empty list'\n",
    "        self.q = []\n",
    "        self.max_size = 4\n",
    "\n",
    "    def isEmpty(self):\n",
    "        'returns True if queue is empty, False otherwise'\n",
    "        return (len(self.q) == 0)\n",
    "\n",
    "    def isFull(self):\n",
    "        'returns True if queue is full, False otherwise'\n",
    "        return (len(self.q) == self.max_size)\n",
    "\n",
    "    def enqueue(self, item):\n",
    "        'insert item at rear of queue'\n",
    "        if self.isFull():\n",
    "            raise FullQueueError('enqueue to full queue')\n",
    "        self.q.append(item)\n",
    "\n",
    "    def dequeue(self):\n",
    "        'remove and return item at front of queue'\n",
    "        if self.isEmpty():\n",
    "            raise EmptyQueueError('dequeue from empty queue')\n",
    "        return self.q.pop(0)\n",
    "\n",
    "    def dequeueMultiple(self, n):\n",
    "        'remove and return the first n elements from the queue'\n",
    "        if len(self.q) < n:\n",
    "            raise InsufficientElementsInQueueError('insufficient elements in queue')\n",
    "        removed_items = self.q[:n]\n",
    "        self.q = self.q[n:]\n",
    "        return removed_items\n",
    "\n",
    "    def __add__(self, other):\n",
    "        'overloading the + operator to concatenate two queues'\n",
    "        new_queue = Queue()\n",
    "        new_queue.q = self.q + other.q\n",
    "        new_queue.q = new_queue.q[:self.max_size]  # Truncate to max size\n",
    "        return new_queue\n"
   ]
  },
  {
   "cell_type": "code",
   "execution_count": null,
   "id": "1cf55919",
   "metadata": {},
   "outputs": [],
   "source": []
  }
 ],
 "metadata": {
  "kernelspec": {
   "display_name": "Python 3 (ipykernel)",
   "language": "python",
   "name": "python3"
  },
  "language_info": {
   "codemirror_mode": {
    "name": "ipython",
    "version": 3
   },
   "file_extension": ".py",
   "mimetype": "text/x-python",
   "name": "python",
   "nbconvert_exporter": "python",
   "pygments_lexer": "ipython3",
   "version": "3.11.5"
  }
 },
 "nbformat": 4,
 "nbformat_minor": 5
}
