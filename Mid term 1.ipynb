{
 "cells": [
  {
   "cell_type": "code",
   "execution_count": 1,
   "id": "67aa44ec",
   "metadata": {},
   "outputs": [
    {
     "name": "stdout",
     "output_type": "stream",
     "text": [
      "Qpubup\n",
      "K nqxg DFCV!\n"
     ]
    }
   ],
   "source": [
    "def caesar(phrase, shift):\n",
    "    result = \"\"\n",
    "    \n",
    "    for char in phrase:\n",
    "        # Check if the character is an alphabet letter\n",
    "        if char.isalpha():\n",
    "            # Determine whether it's uppercase or lowercase\n",
    "            if char.isupper():\n",
    "                # Shift uppercase letters\n",
    "                result += chr((ord(char) - ord('A') + shift) % 26 + ord('A'))\n",
    "            else:\n",
    "                # Shift lowercase letters\n",
    "                result += chr((ord(char) - ord('a') + shift) % 26 + ord('a'))\n",
    "        else:\n",
    "            # If the character is not an alphabet letter, keep it unchanged\n",
    "            result += char\n",
    "    \n",
    "    return result\n",
    "\n",
    "# Test cases\n",
    "print(caesar(\"Potato\", 1))   # Output: Qpubup\n",
    "print(caesar(\"I love BDAT!\", 2))  # Output: K nqxg DFCV!\n"
   ]
  },
  {
   "cell_type": "code",
   "execution_count": null,
   "id": "a9b33f2a",
   "metadata": {},
   "outputs": [],
   "source": []
  }
 ],
 "metadata": {
  "kernelspec": {
   "display_name": "Python 3 (ipykernel)",
   "language": "python",
   "name": "python3"
  },
  "language_info": {
   "codemirror_mode": {
    "name": "ipython",
    "version": 3
   },
   "file_extension": ".py",
   "mimetype": "text/x-python",
   "name": "python",
   "nbconvert_exporter": "python",
   "pygments_lexer": "ipython3",
   "version": "3.11.5"
  }
 },
 "nbformat": 4,
 "nbformat_minor": 5
}
