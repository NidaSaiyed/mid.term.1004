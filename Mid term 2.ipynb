{
 "cells": [
  {
   "cell_type": "code",
   "execution_count": null,
   "id": "0e92b27c",
   "metadata": {},
   "outputs": [],
   "source": [
    "CREATE TABLE DessertRankings (\n",
    "    DessertName TEXT,\n",
    "    ThomasRanking INTEGER,\n",
    "    MyRanking INTEGER\n",
    ");\n",
    "INSERT INTO DessertRankings (DessertName, ThomasRanking, MyRanking) VALUES \n",
    "('Cake', 1, 1),\n",
    "('Brownie', 2, 3),\n",
    "('Ice Cream', 3, 2),\n",
    "('Pie', 5, 5),\n",
    "('Cookies', 4, 4);\n",
    "SELECT * FROM DessertRankings WHERE ThomasRanking = 1 OR MyRanking = 1;\n",
    "SELECT * FROM DessertRankings ORDER BY MyRanking ASC;\n"
   ]
  }
 ],
 "metadata": {
  "kernelspec": {
   "display_name": "Python 3 (ipykernel)",
   "language": "python",
   "name": "python3"
  },
  "language_info": {
   "codemirror_mode": {
    "name": "ipython",
    "version": 3
   },
   "file_extension": ".py",
   "mimetype": "text/x-python",
   "name": "python",
   "nbconvert_exporter": "python",
   "pygments_lexer": "ipython3",
   "version": "3.11.5"
  }
 },
 "nbformat": 4,
 "nbformat_minor": 5
}
